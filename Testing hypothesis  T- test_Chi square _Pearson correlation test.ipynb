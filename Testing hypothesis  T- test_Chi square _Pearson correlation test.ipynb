{
 "cells": [
  {
   "cell_type": "markdown",
   "id": "d7da7a2d",
   "metadata": {},
   "source": [
    "## One sample 𝑡-test\n",
    "\n",
    "###### PAVAN PYLA\n"
   ]
  },
  {
   "cell_type": "code",
   "execution_count": 1,
   "id": "9b3faa7e",
   "metadata": {},
   "outputs": [
    {
     "name": "stdout",
     "output_type": "stream",
     "text": [
      "1.1781328444830825\n"
     ]
    }
   ],
   "source": [
    "import numpy as np\n",
    "import scipy.stats as stats\n",
    "x= [ 1.83, 1.83, 1.73, 1.82, 1.83, 1.73, 1.99, 1.85, 1.68, 1.87,1.45,1.97]\n",
    "xbar = np.mean(x)                          # sample mean\n",
    "mu = 1.75                                           # H0 value\n",
    "s = np.std(x, ddof=1)                                 # sample standard deviation\n",
    "n = len(x)                                            # sample size\n",
    "tobs = (xbar - mu) / (s / np.sqrt(n))\n",
    "print(tobs)"
   ]
  },
  {
   "cell_type": "code",
   "execution_count": 2,
   "id": "db78819c",
   "metadata": {},
   "outputs": [
    {
     "data": {
      "text/plain": [
       "<matplotlib.legend.Legend at 0x1fd0af07d90>"
      ]
     },
     "execution_count": 2,
     "metadata": {},
     "output_type": "execute_result"
    },
    {
     "data": {
      "image/png": "[encoded data removed]",
      "text/plain": [
       "<Figure size 432x288 with 1 Axes>"
      ]
     },
     "metadata": {
      "needs_background": "light"
     },
     "output_type": "display_data"
    }
   ],
   "source": [
    "import scipy.stats as stats\n",
    "import matplotlib.pyplot as plt\n",
    "                                    #1.1781328444830825\n",
    "tvalues = np.linspace(-10, 10, 100)\n",
    "plt.plot(tvalues, stats.t.pdf(tvalues, n-1), 'b-', label=\"T(n-1)\")\n",
    "upper_tval_tvalues = tvalues[tvalues > tobs]\n",
    "plt.fill_between(upper_tval_tvalues, 0, stats.t.pdf(upper_tval_tvalues, n-1), alpha=.9, label=\"p-value\")\n",
    "plt.legend()"
   ]
  },
  {
   "cell_type": "markdown",
   "id": "3c192ee2",
   "metadata": {},
   "source": [
    "# Testing pairwise associations"
   ]
  },
  {
   "cell_type": "markdown",
   "id": "36bb9821",
   "metadata": {},
   "source": [
    "## Pearson correlation test"
   ]
  },
  {
   "cell_type": "code",
   "execution_count": 5,
   "id": "d6c0747b",
   "metadata": {},
   "outputs": [
    {
     "name": "stdout",
     "output_type": "stream",
     "text": [
      "correlation = 0.8685768003484347 , pvalue = 3.032888572664233e-16\n"
     ]
    }
   ],
   "source": [
    "import numpy as np\n",
    "import scipy.stats as stats\n",
    "n = 50\n",
    "x = np.random.normal(size=n)\n",
    "y = 2 * x + np.random.normal(size=n)\n",
    "\n",
    "cor, pval = stats.pearsonr(x, y)\n",
    "print(f\"correlation = {cor} , pvalue = {pval}\")"
   ]
  },
  {
   "cell_type": "code",
   "execution_count": null,
   "id": "21702b83",
   "metadata": {},
   "outputs": [],
   "source": []
  },
  {
   "cell_type": "markdown",
   "id": "821866e3",
   "metadata": {},
   "source": [
    "## Two sample 𝑡-test"
   ]
  },
  {
   "cell_type": "code",
   "execution_count": 6,
   "id": "a21c407d",
   "metadata": {},
   "outputs": [
    {
     "name": "stdout",
     "output_type": "stream",
     "text": [
      "Ttest_indResult(statistic=3.5511519888466885, pvalue=0.00228208937112721)\n"
     ]
    }
   ],
   "source": [
    "import scipy.stats as stats\n",
    "height = np.array([ 1.83, 1.83, 1.73, 1.82, 1.83, 1.73, 1.99, 1.85, 1.68, 1.87,\n",
    "                   1.66, 1.71, 1.73, 1.64, 1.70, 1.60, 1.79, 1.73, 1.62, 1.77])\n",
    "grp = np.array([\"M\"] * 10 + [\"F\"] * 10)\n",
    "\n",
    "print(stats.ttest_ind(height[grp == \"M\"], height[grp == \"F\"], equal_var=True))\n"
   ]
  },
  {
   "cell_type": "markdown",
   "id": "b8574f89",
   "metadata": {},
   "source": [
    "##  Chi-square, 𝜒^2\n"
   ]
  },
  {
   "cell_type": "code",
   "execution_count": 7,
   "id": "d6b459a5",
   "metadata": {},
   "outputs": [
    {
     "name": "stdout",
     "output_type": "stream",
     "text": [
      "Observed table:\n",
      "---------------\n",
      "meta           0  1\n",
      "canalar_tumor      \n",
      "0              4  1\n",
      "1              2  8\n",
      "Statistics:\n",
      "-----------\n",
      "Chi2 = 2.812500, pval = 0.093533\n",
      "Expected table:\n",
      "---------------\n",
      "[[2. 3.]\n",
      " [4. 6.]]\n"
     ]
    }
   ],
   "source": [
    "import numpy as np\n",
    "import pandas as pd\n",
    "import scipy.stats as stats\n",
    "                                                # Dataset:\n",
    "                                                # 15 samples:\n",
    "                                                # 10 first with canalar tumor, 5 last without\n",
    "canalar_tumor = np.array([1] * 10 + [0] * 5)\n",
    "                                                # 8 first with metastasis, 6 without, the last with.\n",
    "meta = np.array([1] * 8 + [0] * 6 + [1])\n",
    "crosstab = pd.crosstab(canalar_tumor, meta, rownames=['canalar_tumor'], colnames=['meta'])\n",
    "print(\"Observed table:\")\n",
    "print(\"---------------\")\n",
    "print(crosstab)\n",
    "chi2, pval, dof, expected = stats.chi2_contingency(crosstab)\n",
    "print(\"Statistics:\")\n",
    "print(\"-----------\")\n",
    "print(\"Chi2 = %f, pval = %f\" % (chi2, pval))\n",
    "print(\"Expected table:\")\n",
    "print(\"---------------\")\n",
    "print(expected)"
   ]
  },
  {
   "cell_type": "code",
   "execution_count": 9,
   "id": "0f3f781b",
   "metadata": {},
   "outputs": [
    {
     "name": "stdout",
     "output_type": "stream",
     "text": [
      "Canalar tumor frequency? Yes: 0.33 No: 0.67\n"
     ]
    }
   ],
   "source": [
    "#Computing Cross tableau\n",
    "meta_marg = crosstab.sum(axis=0)\n",
    "meta_freq = meta_marg / meta_marg.sum()\n",
    "canalar_tumor_marg = crosstab.sum(axis=1)\n",
    "canalar_tumor_freq = canalar_tumor_marg / canalar_tumor_marg.sum()\n",
    "print('Canalar tumor frequency? Yes: %.2f' % canalar_tumor_freq[0], 'No: %.2f' %canalar_tumor_freq[1])"
   ]
  },
  {
   "cell_type": "code",
   "execution_count": 11,
   "id": "2925fc43",
   "metadata": {},
   "outputs": [
    {
     "name": "stdout",
     "output_type": "stream",
     "text": [
      "Metastasis frequency? Yes: 0.40 No: 0.60\n",
      "Expected frequencies:\n",
      "[[0.13333333 0.2       ]\n",
      " [0.26666667 0.4       ]]\n",
      "Expected cross-table (frequencies * N): \n",
      "[[2. 3.]\n",
      " [4. 6.]]\n"
     ]
    }
   ],
   "source": [
    "print('Metastasis frequency? Yes: %.2f' % meta_freq[0], 'No: %.2f' % meta_freq[1])\n",
    "print('Expected frequencies:')\n",
    "print(np.outer(canalar_tumor_freq, meta_freq))\n",
    "print('Expected cross-table (frequencies * N): ')\n",
    "print(np.outer(canalar_tumor_freq, meta_freq) * len(canalar_tumor))"
   ]
  }
 ],
 "metadata": {
  "kernelspec": {
   "display_name": "Python 3 (ipykernel)",
   "language": "python",
   "name": "python3"
  },
  "language_info": {
   "codemirror_mode": {
    "name": "ipython",
    "version": 3
   },
   "file_extension": ".py",
   "mimetype": "text/x-python",
   "name": "python",
   "nbconvert_exporter": "python",
   "pygments_lexer": "ipython3",
   "version": "3.9.13"
  }
 },
 "nbformat": 4,
 "nbformat_minor": 5
}
