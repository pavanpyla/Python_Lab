{
 "cells": [
  {
   "cell_type": "code",
   "execution_count": 1,
   "id": "7d01bcf3",
   "metadata": {},
   "outputs": [
    {
     "name": "stdout",
     "output_type": "stream",
     "text": [
      "1.4.3\n"
     ]
    }
   ],
   "source": [
    "#1. How to import pandas and check the version?\n",
    "\n",
    "import pandas as pd\n",
    "import numpy as np\n",
    "print(pd.__version__)\n"
   ]
  },
  {
   "cell_type": "code",
   "execution_count": 2,
   "id": "0373c519",
   "metadata": {},
   "outputs": [
    {
     "data": {
      "text/plain": [
       "0    p\n",
       "1    a\n",
       "2    1\n",
       "dtype: object"
      ]
     },
     "execution_count": 2,
     "metadata": {},
     "output_type": "execute_result"
    }
   ],
   "source": [
    "#2. How to create a series from a list, numpy array and dict?\n",
    "l=[\"p\",\"a\",\"1\"]\n",
    "K=pd.Series(l)\n",
    "K"
   ]
  },
  {
   "cell_type": "code",
   "execution_count": 3,
   "id": "c822f373",
   "metadata": {},
   "outputs": [
    {
     "name": "stdout",
     "output_type": "stream",
     "text": [
      "   index  0\n",
      "0      0  p\n",
      "1      1  a\n",
      "2      2  1\n"
     ]
    }
   ],
   "source": [
    "#3. How to convert the index of a series into a column of a dataframe?\n",
    "df = K.to_frame().reset_index()\n",
    "print(df.head())"
   ]
  },
  {
   "cell_type": "code",
   "execution_count": 4,
   "id": "80e68c19",
   "metadata": {},
   "outputs": [
    {
     "name": "stdout",
     "output_type": "stream",
     "text": [
      "  col1 col2\n",
      "0    p    p\n",
      "1    a    a\n",
      "2    1    1\n"
     ]
    }
   ],
   "source": [
    "#4. How to combine many series to form a dataframe?\n",
    "df = pd.DataFrame({'col1': K, 'col2': K})\n",
    "print(df.head())"
   ]
  },
  {
   "cell_type": "code",
   "execution_count": 5,
   "id": "b2e602d1",
   "metadata": {},
   "outputs": [
    {
     "data": {
      "text/plain": [
       "0    p\n",
       "1    a\n",
       "2    1\n",
       "Name: name, dtype: object"
      ]
     },
     "execution_count": 5,
     "metadata": {},
     "output_type": "execute_result"
    }
   ],
   "source": [
    "#5. How to assign name to the series’ index?\n",
    "K.name=\"name\"\n",
    "\n",
    "K.head()"
   ]
  },
  {
   "cell_type": "code",
   "execution_count": 6,
   "id": "5024da37",
   "metadata": {},
   "outputs": [
    {
     "data": {
      "text/plain": [
       "0    1\n",
       "1    2\n",
       "2    3\n",
       "dtype: int64"
      ]
     },
     "execution_count": 6,
     "metadata": {},
     "output_type": "execute_result"
    }
   ],
   "source": [
    "#6. How to get the items of series A not present in series B?\n",
    "ser1 = pd.Series([1, 2, 3, 4, 5])\n",
    "ser2 = pd.Series([4, 5, 6, 7, 8])\n",
    "\n",
    "ser1[~ser1.isin(ser2)]"
   ]
  },
  {
   "cell_type": "code",
   "execution_count": 7,
   "id": "f0e0a349",
   "metadata": {},
   "outputs": [
    {
     "data": {
      "text/plain": [
       "0    1\n",
       "1    2\n",
       "2    3\n",
       "3    6\n",
       "4    7\n",
       "5    8\n",
       "dtype: int64"
      ]
     },
     "execution_count": 7,
     "metadata": {},
     "output_type": "execute_result"
    }
   ],
   "source": [
    "#7. How to get the items not common to both series A and series B?\n",
    "\n",
    "# ser_u = pd.Series(np.union1d(ser1, ser2))  # union\n",
    "# ser_i = pd.Series(np.intersect1d(ser1, ser2))  # intersect\n",
    "ser3=ser1[~ser1.isin(ser2)]\n",
    "ser4=ser2[~ser2.isin(ser1)]\n",
    "ser5=pd.Series(np.union1d(ser3,ser4))\n",
    "ser5"
   ]
  },
  {
   "cell_type": "code",
   "execution_count": 8,
   "id": "aa47bfa3",
   "metadata": {},
   "outputs": [
    {
     "name": "stdout",
     "output_type": "stream",
     "text": [
      "0     13.404697\n",
      "1     14.322313\n",
      "2     11.503880\n",
      "3     12.379802\n",
      "4      5.717911\n",
      "5     11.440095\n",
      "6      8.874998\n",
      "7     14.976378\n",
      "8     17.055364\n",
      "9      8.223587\n",
      "10    14.794246\n",
      "11    10.812507\n",
      "12    10.693211\n",
      "13    12.329936\n",
      "14     8.689697\n",
      "15    20.957415\n",
      "16     8.300510\n",
      "17     9.771118\n",
      "18     9.163451\n",
      "19     7.136115\n",
      "20     5.875803\n",
      "21     8.839115\n",
      "22    10.184883\n",
      "23    12.240404\n",
      "24    11.681630\n",
      "dtype: float64\n"
     ]
    },
    {
     "data": {
      "text/plain": [
       "array([ 5.71791086,  8.8391151 , 10.81250743, 12.37980215, 20.95741462])"
      ]
     },
     "execution_count": 8,
     "metadata": {},
     "output_type": "execute_result"
    }
   ],
   "source": [
    "#8. How to get the minimum, 25th percentile, median, 75th, and max of a numeric series?\n",
    "\n",
    "ser = pd.Series(np.random.normal(10, 5, 25))\n",
    "print(ser)\n",
    "np.percentile(ser, q=[0, 25, 50, 75, 100])"
   ]
  },
  {
   "cell_type": "code",
   "execution_count": 9,
   "id": "67948574",
   "metadata": {},
   "outputs": [
    {
     "name": "stdout",
     "output_type": "stream",
     "text": [
      "3    3\n",
      "1    2\n",
      "2    2\n",
      "4    1\n",
      "5    1\n",
      "dtype: int64\n"
     ]
    }
   ],
   "source": [
    "#9. How to get frequency counts of unique items of a series?\n",
    "ser = pd.Series([1,1,2, 2, 3,3,3, 4, 5])\n",
    "l=ser.unique()\n",
    "l\n",
    "l1=ser.value_counts()\n",
    "print(l1)    "
   ]
  },
  {
   "cell_type": "code",
   "execution_count": 10,
   "id": "e61e9600",
   "metadata": {},
   "outputs": [
    {
     "data": {
      "text/plain": [
       "0        1\n",
       "1        1\n",
       "2    Other\n",
       "3    Other\n",
       "4        3\n",
       "5        3\n",
       "6        3\n",
       "7    Other\n",
       "8    Other\n",
       "dtype: object"
      ]
     },
     "execution_count": 10,
     "metadata": {},
     "output_type": "execute_result"
    }
   ],
   "source": [
    "#10. How to keep only top 2 most frequent values as it is and replace everything else as ‘Other’?\n",
    "ser = pd.Series([1,1,2, 2, 3,3,3, 4, 5])\n",
    "\n",
    "ser[~ser.isin(ser.value_counts().index[:2])] = 'Other'\n",
    "ser"
   ]
  },
  {
   "cell_type": "code",
   "execution_count": 11,
   "id": "2f6013e6",
   "metadata": {},
   "outputs": [
    {
     "name": "stdout",
     "output_type": "stream",
     "text": [
      "0    0.482844\n",
      "1    0.390459\n",
      "2    0.966928\n",
      "3    0.674385\n",
      "4    0.243467\n",
      "dtype: float64\n"
     ]
    },
    {
     "data": {
      "text/plain": [
       "0     5th\n",
       "1     3rd\n",
       "2    10th\n",
       "3     8th\n",
       "4     1st\n",
       "dtype: category\n",
       "Categories (10, object): ['1st' < '2nd' < '3rd' < '4th' ... '7th' < '8th' < '9th' < '10th']"
      ]
     },
     "execution_count": 11,
     "metadata": {},
     "output_type": "execute_result"
    }
   ],
   "source": [
    "#11. How to bin a numeric series to 10 groups of equal size?\n",
    "ser = pd.Series(np.random.random(5))\n",
    "print(ser.head())\n",
    "\n",
    "pd.qcut(ser, q=[0, .1, .2, .3, .4, .5, .6, .7,.8,.9,1] ,\n",
    "        labels=['1st', '2nd', '3rd', '4th', '5th', '6th', '7th', '8th','9th','10th'])"
   ]
  },
  {
   "cell_type": "code",
   "execution_count": 12,
   "id": "272e0327",
   "metadata": {},
   "outputs": [
    {
     "data": {
      "text/html": [
       "<div>\n",
       "<style scoped>\n",
       "    .dataframe tbody tr th:only-of-type {\n",
       "        vertical-align: middle;\n",
       "    }\n",
       "\n",
       "    .dataframe tbody tr th {\n",
       "        vertical-align: top;\n",
       "    }\n",
       "\n",
       "    .dataframe thead th {\n",
       "        text-align: right;\n",
       "    }\n",
       "</style>\n",
       "<table border=\"1\" class=\"dataframe\">\n",
       "  <thead>\n",
       "    <tr style=\"text-align: right;\">\n",
       "      <th></th>\n",
       "      <th>0</th>\n",
       "      <th>1</th>\n",
       "      <th>2</th>\n",
       "      <th>3</th>\n",
       "      <th>4</th>\n",
       "    </tr>\n",
       "  </thead>\n",
       "  <tbody>\n",
       "    <tr>\n",
       "      <th>0</th>\n",
       "      <td>1.000000</td>\n",
       "      <td>1.191919</td>\n",
       "      <td>1.383838</td>\n",
       "      <td>1.575758</td>\n",
       "      <td>1.767677</td>\n",
       "    </tr>\n",
       "    <tr>\n",
       "      <th>1</th>\n",
       "      <td>1.959596</td>\n",
       "      <td>2.151515</td>\n",
       "      <td>2.343434</td>\n",
       "      <td>2.535354</td>\n",
       "      <td>2.727273</td>\n",
       "    </tr>\n",
       "    <tr>\n",
       "      <th>2</th>\n",
       "      <td>2.919192</td>\n",
       "      <td>3.111111</td>\n",
       "      <td>3.303030</td>\n",
       "      <td>3.494949</td>\n",
       "      <td>3.686869</td>\n",
       "    </tr>\n",
       "    <tr>\n",
       "      <th>3</th>\n",
       "      <td>3.878788</td>\n",
       "      <td>4.070707</td>\n",
       "      <td>4.262626</td>\n",
       "      <td>4.454545</td>\n",
       "      <td>4.646465</td>\n",
       "    </tr>\n",
       "    <tr>\n",
       "      <th>4</th>\n",
       "      <td>4.838384</td>\n",
       "      <td>5.030303</td>\n",
       "      <td>5.222222</td>\n",
       "      <td>5.414141</td>\n",
       "      <td>5.606061</td>\n",
       "    </tr>\n",
       "    <tr>\n",
       "      <th>5</th>\n",
       "      <td>5.797980</td>\n",
       "      <td>5.989899</td>\n",
       "      <td>6.181818</td>\n",
       "      <td>6.373737</td>\n",
       "      <td>6.565657</td>\n",
       "    </tr>\n",
       "    <tr>\n",
       "      <th>6</th>\n",
       "      <td>6.757576</td>\n",
       "      <td>6.949495</td>\n",
       "      <td>7.141414</td>\n",
       "      <td>7.333333</td>\n",
       "      <td>7.525253</td>\n",
       "    </tr>\n",
       "    <tr>\n",
       "      <th>7</th>\n",
       "      <td>7.717172</td>\n",
       "      <td>7.909091</td>\n",
       "      <td>8.101010</td>\n",
       "      <td>8.292929</td>\n",
       "      <td>8.484848</td>\n",
       "    </tr>\n",
       "    <tr>\n",
       "      <th>8</th>\n",
       "      <td>8.676768</td>\n",
       "      <td>8.868687</td>\n",
       "      <td>9.060606</td>\n",
       "      <td>9.252525</td>\n",
       "      <td>9.444444</td>\n",
       "    </tr>\n",
       "    <tr>\n",
       "      <th>9</th>\n",
       "      <td>9.636364</td>\n",
       "      <td>9.828283</td>\n",
       "      <td>10.020202</td>\n",
       "      <td>10.212121</td>\n",
       "      <td>10.404040</td>\n",
       "    </tr>\n",
       "    <tr>\n",
       "      <th>10</th>\n",
       "      <td>10.595960</td>\n",
       "      <td>10.787879</td>\n",
       "      <td>10.979798</td>\n",
       "      <td>11.171717</td>\n",
       "      <td>11.363636</td>\n",
       "    </tr>\n",
       "    <tr>\n",
       "      <th>11</th>\n",
       "      <td>11.555556</td>\n",
       "      <td>11.747475</td>\n",
       "      <td>11.939394</td>\n",
       "      <td>12.131313</td>\n",
       "      <td>12.323232</td>\n",
       "    </tr>\n",
       "    <tr>\n",
       "      <th>12</th>\n",
       "      <td>12.515152</td>\n",
       "      <td>12.707071</td>\n",
       "      <td>12.898990</td>\n",
       "      <td>13.090909</td>\n",
       "      <td>13.282828</td>\n",
       "    </tr>\n",
       "    <tr>\n",
       "      <th>13</th>\n",
       "      <td>13.474747</td>\n",
       "      <td>13.666667</td>\n",
       "      <td>13.858586</td>\n",
       "      <td>14.050505</td>\n",
       "      <td>14.242424</td>\n",
       "    </tr>\n",
       "    <tr>\n",
       "      <th>14</th>\n",
       "      <td>14.434343</td>\n",
       "      <td>14.626263</td>\n",
       "      <td>14.818182</td>\n",
       "      <td>15.010101</td>\n",
       "      <td>15.202020</td>\n",
       "    </tr>\n",
       "    <tr>\n",
       "      <th>15</th>\n",
       "      <td>15.393939</td>\n",
       "      <td>15.585859</td>\n",
       "      <td>15.777778</td>\n",
       "      <td>15.969697</td>\n",
       "      <td>16.161616</td>\n",
       "    </tr>\n",
       "    <tr>\n",
       "      <th>16</th>\n",
       "      <td>16.353535</td>\n",
       "      <td>16.545455</td>\n",
       "      <td>16.737374</td>\n",
       "      <td>16.929293</td>\n",
       "      <td>17.121212</td>\n",
       "    </tr>\n",
       "    <tr>\n",
       "      <th>17</th>\n",
       "      <td>17.313131</td>\n",
       "      <td>17.505051</td>\n",
       "      <td>17.696970</td>\n",
       "      <td>17.888889</td>\n",
       "      <td>18.080808</td>\n",
       "    </tr>\n",
       "    <tr>\n",
       "      <th>18</th>\n",
       "      <td>18.272727</td>\n",
       "      <td>18.464646</td>\n",
       "      <td>18.656566</td>\n",
       "      <td>18.848485</td>\n",
       "      <td>19.040404</td>\n",
       "    </tr>\n",
       "    <tr>\n",
       "      <th>19</th>\n",
       "      <td>19.232323</td>\n",
       "      <td>19.424242</td>\n",
       "      <td>19.616162</td>\n",
       "      <td>19.808081</td>\n",
       "      <td>20.000000</td>\n",
       "    </tr>\n",
       "  </tbody>\n",
       "</table>\n",
       "</div>"
      ],
      "text/plain": [
       "            0          1          2          3          4\n",
       "0    1.000000   1.191919   1.383838   1.575758   1.767677\n",
       "1    1.959596   2.151515   2.343434   2.535354   2.727273\n",
       "2    2.919192   3.111111   3.303030   3.494949   3.686869\n",
       "3    3.878788   4.070707   4.262626   4.454545   4.646465\n",
       "4    4.838384   5.030303   5.222222   5.414141   5.606061\n",
       "5    5.797980   5.989899   6.181818   6.373737   6.565657\n",
       "6    6.757576   6.949495   7.141414   7.333333   7.525253\n",
       "7    7.717172   7.909091   8.101010   8.292929   8.484848\n",
       "8    8.676768   8.868687   9.060606   9.252525   9.444444\n",
       "9    9.636364   9.828283  10.020202  10.212121  10.404040\n",
       "10  10.595960  10.787879  10.979798  11.171717  11.363636\n",
       "11  11.555556  11.747475  11.939394  12.131313  12.323232\n",
       "12  12.515152  12.707071  12.898990  13.090909  13.282828\n",
       "13  13.474747  13.666667  13.858586  14.050505  14.242424\n",
       "14  14.434343  14.626263  14.818182  15.010101  15.202020\n",
       "15  15.393939  15.585859  15.777778  15.969697  16.161616\n",
       "16  16.353535  16.545455  16.737374  16.929293  17.121212\n",
       "17  17.313131  17.505051  17.696970  17.888889  18.080808\n",
       "18  18.272727  18.464646  18.656566  18.848485  19.040404\n",
       "19  19.232323  19.424242  19.616162  19.808081  20.000000"
      ]
     },
     "execution_count": 12,
     "metadata": {},
     "output_type": "execute_result"
    }
   ],
   "source": [
    "#12. How to convert a numpy array to a dataframe of given shape? (L1)\n",
    "l=np.linspace(1,20,100)\n",
    "l=pd.Series(l)\n",
    "df= pd.DataFrame(l.values.reshape(20,5))\n",
    "df"
   ]
  },
  {
   "cell_type": "code",
   "execution_count": 13,
   "id": "632b134f",
   "metadata": {},
   "outputs": [
    {
     "name": "stdout",
     "output_type": "stream",
     "text": [
      "4\n",
      "4\n",
      "4\n"
     ]
    }
   ],
   "source": [
    "#13. How to find the positions of numbers that are multiples of 3 from a series?\n",
    "ser = pd.Series([1,1,2, 2, 3,3,3, 4, 5])\n",
    "for i in ser:\n",
    "    if(i%3==0):\n",
    "        print(ser[ser==i].index[0])\n",
    "\n"
   ]
  },
  {
   "cell_type": "code",
   "execution_count": 14,
   "id": "f04f3f78",
   "metadata": {},
   "outputs": [
    {
     "data": {
      "text/plain": [
       "1    1\n",
       "2    2\n",
       "3    2\n",
       "4    3\n",
       "dtype: int64"
      ]
     },
     "execution_count": 14,
     "metadata": {},
     "output_type": "execute_result"
    }
   ],
   "source": [
    "#14. How to extract items at given positions from a series\n",
    "ser = pd.Series([1,1,2, 2, 3,3,3, 4, 5])\n",
    "pos=[1,2,3,4]\n",
    "ser.take(pos)"
   ]
  },
  {
   "cell_type": "code",
   "execution_count": 15,
   "id": "8a66ce03",
   "metadata": {},
   "outputs": [
    {
     "data": {
      "text/html": [
       "<div>\n",
       "<style scoped>\n",
       "    .dataframe tbody tr th:only-of-type {\n",
       "        vertical-align: middle;\n",
       "    }\n",
       "\n",
       "    .dataframe tbody tr th {\n",
       "        vertical-align: top;\n",
       "    }\n",
       "\n",
       "    .dataframe thead th {\n",
       "        text-align: right;\n",
       "    }\n",
       "</style>\n",
       "<table border=\"1\" class=\"dataframe\">\n",
       "  <thead>\n",
       "    <tr style=\"text-align: right;\">\n",
       "      <th></th>\n",
       "      <th>0</th>\n",
       "      <th>1</th>\n",
       "    </tr>\n",
       "  </thead>\n",
       "  <tbody>\n",
       "    <tr>\n",
       "      <th>0</th>\n",
       "      <td>1</td>\n",
       "      <td>1</td>\n",
       "    </tr>\n",
       "    <tr>\n",
       "      <th>1</th>\n",
       "      <td>1</td>\n",
       "      <td>1</td>\n",
       "    </tr>\n",
       "    <tr>\n",
       "      <th>2</th>\n",
       "      <td>2</td>\n",
       "      <td>2</td>\n",
       "    </tr>\n",
       "    <tr>\n",
       "      <th>3</th>\n",
       "      <td>2</td>\n",
       "      <td>2</td>\n",
       "    </tr>\n",
       "    <tr>\n",
       "      <th>4</th>\n",
       "      <td>3</td>\n",
       "      <td>3</td>\n",
       "    </tr>\n",
       "    <tr>\n",
       "      <th>5</th>\n",
       "      <td>3</td>\n",
       "      <td>3</td>\n",
       "    </tr>\n",
       "    <tr>\n",
       "      <th>6</th>\n",
       "      <td>3</td>\n",
       "      <td>3</td>\n",
       "    </tr>\n",
       "    <tr>\n",
       "      <th>7</th>\n",
       "      <td>4</td>\n",
       "      <td>4</td>\n",
       "    </tr>\n",
       "    <tr>\n",
       "      <th>8</th>\n",
       "      <td>5</td>\n",
       "      <td>5</td>\n",
       "    </tr>\n",
       "  </tbody>\n",
       "</table>\n",
       "</div>"
      ],
      "text/plain": [
       "   0  1\n",
       "0  1  1\n",
       "1  1  1\n",
       "2  2  2\n",
       "3  2  2\n",
       "4  3  3\n",
       "5  3  3\n",
       "6  3  3\n",
       "7  4  4\n",
       "8  5  5"
      ]
     },
     "execution_count": 15,
     "metadata": {},
     "output_type": "execute_result"
    }
   ],
   "source": [
    "#15. How to stack two series vertically and horizontally ?\n",
    "ser = pd.Series([1,1,2, 2, 3,3,3, 4, 5])\n",
    "df= pd.concat([ser,ser], axis=1)\n",
    "df1= pd.concat([ser,ser], axis=0)\n",
    "\n",
    "df"
   ]
  },
  {
   "cell_type": "code",
   "execution_count": 16,
   "id": "2ca337ca",
   "metadata": {},
   "outputs": [
    {
     "name": "stdout",
     "output_type": "stream",
     "text": [
      "[5, 4, 0, 8]\n"
     ]
    }
   ],
   "source": [
    "#16. How to get the positions of items of series A in another series B?\n",
    "ser1 = pd.Series([10, 9, 6, 5, 3, 1, 12, 8, 13])\n",
    "ser2 = pd.Series([1, 3, 10, 13])\n",
    "count=0\n",
    "pos=[]\n",
    "for i in ser2:\n",
    "    #print(i)\n",
    "    count=0\n",
    "    while (count<len(ser1)):\n",
    "        if(ser1[count]==i):\n",
    "            pos.append(count)\n",
    "        count=count+1\n",
    "print(pos)\n",
    "\n",
    "\n"
   ]
  },
  {
   "cell_type": "code",
   "execution_count": 17,
   "id": "92b88f52",
   "metadata": {},
   "outputs": [
    {
     "name": "stdout",
     "output_type": "stream",
     "text": [
      "3.423963717816888\n"
     ]
    }
   ],
   "source": [
    "#17. How to compute the mean squared error on a truth and predicted series?\n",
    "truth = pd.Series(range(10))\n",
    "pred = pd.Series(range(10)) + np.random.random(10)\n",
    "count=0\n",
    "total=0\n",
    "sqr=0\n",
    "while(count< len(truth)):\n",
    "    sqr=truth[count]-pred[count]\n",
    "    total=total+sqr*sqr\n",
    "    count=count+1\n",
    "print(total)   "
   ]
  },
  {
   "cell_type": "code",
   "execution_count": 18,
   "id": "8b932038",
   "metadata": {},
   "outputs": [
    {
     "name": "stdout",
     "output_type": "stream",
     "text": [
      "0      How\n",
      "1       To\n",
      "2     Kick\n",
      "3    Ball?\n",
      "dtype: object\n"
     ]
    }
   ],
   "source": [
    "#18. How to convert the first character of each element in a series to uppercase?\n",
    "lst=[]\n",
    "ser = pd.Series(['how', 'to', 'kick', 'ball?'])\n",
    "for i in ser:\n",
    "    lst.append(i.title())\n",
    "ser1=pd.Series(lst)\n",
    "print(ser1)"
   ]
  },
  {
   "cell_type": "code",
   "execution_count": 19,
   "id": "47e4f7b1",
   "metadata": {},
   "outputs": [
    {
     "name": "stdout",
     "output_type": "stream",
     "text": [
      "0    3\n",
      "1    2\n",
      "2    4\n",
      "3    5\n",
      "dtype: int64\n"
     ]
    }
   ],
   "source": [
    "#19. How to calculate the number of characters in each word in a series?\n",
    "ser = pd.Series(['how', 'to', 'kick', 'ball?'])\n",
    "lst=[]\n",
    "for i in ser:\n",
    "    lst.append(len(i))\n",
    "ser2=pd.Series(lst)\n",
    "print(ser2)"
   ]
  },
  {
   "cell_type": "code",
   "execution_count": 20,
   "id": "65cafb93",
   "metadata": {},
   "outputs": [
    {
     "name": "stdout",
     "output_type": "stream",
     "text": [
      "[nan, nan, 1.0, 1.0, 1.0, 1.0, 0.0, 2.0]\n"
     ]
    }
   ],
   "source": [
    "#20. How to compute difference of differences between consequtive numbers of a series?\n",
    "\n",
    "ser = pd.Series([1, 3, 6, 10, 15, 21, 27, 35])\n",
    "print(ser.diff().diff().tolist())"
   ]
  },
  {
   "cell_type": "code",
   "execution_count": 21,
   "id": "9a6ba44b",
   "metadata": {},
   "outputs": [
    {
     "data": {
      "text/plain": [
       "0   2010-01-01 00:00:00\n",
       "1   2011-02-02 00:00:00\n",
       "2   2012-03-03 00:00:00\n",
       "3   2013-04-04 00:00:00\n",
       "4   2014-05-05 00:00:00\n",
       "5   2015-06-06 12:20:00\n",
       "dtype: datetime64[ns]"
      ]
     },
     "execution_count": 21,
     "metadata": {},
     "output_type": "execute_result"
    }
   ],
   "source": [
    "#21. How to convert a series of date-strings to a timeseries?\n",
    "ser = pd.Series(['01 Jan 2010', '02-02-2011', '20120303', '2013/04/04', '2014-05-05', '2015-06-06T12:20'])\n",
    "pd.to_datetime(ser)"
   ]
  },
  {
   "cell_type": "code",
   "execution_count": 22,
   "id": "22b56cbf",
   "metadata": {},
   "outputs": [
    {
     "name": "stdout",
     "output_type": "stream",
     "text": [
      "Date:  [1, 2, 3, 4, 5, 6]\n",
      "Week number:  [53, 5, 9, 14, 19, 23]\n",
      "Day number of year:  [1, 33, 63, 94, 125, 157]\n",
      "Day of week:  ['Friday', 'Wednesday', 'Saturday', 'Thursday', 'Monday', 'Saturday']\n"
     ]
    }
   ],
   "source": [
    "#22. How to get the day of month, week number, day of year and day of week from a series of date strings?\n",
    "\n",
    "ser = pd.Series(['01 Jan 2010', '02-02-2011', '20120303', '2013/04/04', '2014-05-05', '2015-06-06T12:20'])\n",
    "# Solution\n",
    "from dateutil.parser import parse\n",
    "ser_ts = ser.map(lambda x: parse(x))\n",
    "\n",
    "# day of month\n",
    "print(\"Date: \", ser_ts.dt.day.tolist())\n",
    "\n",
    "# week number\n",
    "print(\"Week number: \", ser_ts.dt.isocalendar().week.tolist())\n",
    "\n",
    "# day of year\n",
    "print(\"Day number of year: \", ser_ts.dt.dayofyear.tolist())\n",
    "\n",
    "# day of week\n",
    "print(\"Day of week: \", ser_ts.dt.day_name().tolist())"
   ]
  },
  {
   "cell_type": "code",
   "execution_count": 23,
   "id": "64d16bde",
   "metadata": {},
   "outputs": [
    {
     "data": {
      "text/plain": [
       "0   2010-01-04\n",
       "1   2011-02-04\n",
       "2   2012-03-04\n",
       "dtype: datetime64[ns]"
      ]
     },
     "execution_count": 23,
     "metadata": {},
     "output_type": "execute_result"
    }
   ],
   "source": [
    "#23. How to convert year-month string to dates corresponding to the 4th day of the month?\n",
    "\n",
    "ser = pd.Series(['Jan 2010', 'Feb 2011', 'Mar 2012'])\n",
    "\n",
    "ser.map(lambda x: parse('04 ' + x))"
   ]
  },
  {
   "cell_type": "code",
   "execution_count": 24,
   "id": "a3546dcf",
   "metadata": {},
   "outputs": [
    {
     "name": "stdout",
     "output_type": "stream",
     "text": [
      "Apple\n",
      "Orange\n",
      "Money\n"
     ]
    }
   ],
   "source": [
    "#24. How to filter words that contain atleast 2 vowels from a series?\n",
    "ser = pd.Series(['Apple', 'Orange', 'Plan', 'Python', 'Money'])\n",
    "count=0\n",
    "for i in ser:\n",
    "    count=0\n",
    "    for k in i:\n",
    "        if(k in 'aeiouAEIOU'):\n",
    "            count=count+1\n",
    "    if(count >=2):\n",
    "        print(i)"
   ]
  },
  {
   "cell_type": "code",
   "execution_count": 25,
   "id": "f758e503",
   "metadata": {},
   "outputs": [
    {
     "data": {
      "text/plain": [
       "[[], ['rameses@egypt.com'], ['matt@t.co'], ['narendra@modi.com']]"
      ]
     },
     "execution_count": 25,
     "metadata": {},
     "output_type": "execute_result"
    }
   ],
   "source": [
    "#25. How to filter valid emails from a series?\n",
    "\n",
    "emails = pd.Series(['buying books at amazom.com', 'rameses@egypt.com', 'matt@t.co', 'narendra@modi.com'])\n",
    "pattern ='[A-Za-z0-9._%+-]+@[A-Za-z0-9.-]+\\\\.[A-Za-z]{2,4}'\n",
    "import re\n",
    "emails.str.findall(pattern, flags=re.IGNORECASE).tolist()"
   ]
  },
  {
   "cell_type": "code",
   "execution_count": 26,
   "id": "be699ce3",
   "metadata": {},
   "outputs": [
    {
     "name": "stdout",
     "output_type": "stream",
     "text": [
      "[1.0, 2.0, 3.0, 4.0, 5.0, 6.0, 7.0, 8.0, 9.0, 10.0]\n",
      "['banana', 'carrot', 'carrot', 'carrot', 'carrot', 'carrot', 'apple', 'carrot', 'banana', 'banana']\n"
     ]
    },
    {
     "data": {
      "text/plain": [
       "apple     7.000000\n",
       "banana    6.666667\n",
       "carrot    4.666667\n",
       "dtype: float64"
      ]
     },
     "execution_count": 26,
     "metadata": {},
     "output_type": "execute_result"
    }
   ],
   "source": [
    "#26. How to get the mean of a series grouped by another series?\n",
    "fruit = pd.Series(np.random.choice(['apple', 'banana', 'carrot'], 10))\n",
    "weights = pd.Series(np.linspace(1, 10, 10))\n",
    "print(weights.tolist())\n",
    "print(fruit.tolist())\n",
    "# mydict={i:0 for i in fruit}\n",
    "# print(mydict)\n",
    "# count=0\n",
    "# l=0\n",
    "# while(count<len(fruit)):\n",
    "#     #print(fruit[count])\n",
    "#     l=str(fruit[count])\n",
    "#     mydict[l]=mydict[l]+weights[count]\n",
    "#     count=count+1\n",
    "\n",
    "weights.groupby(fruit).mean()"
   ]
  },
  {
   "cell_type": "code",
   "execution_count": 27,
   "id": "d44f5621",
   "metadata": {},
   "outputs": [
    {
     "data": {
      "text/plain": [
       "18.16590212458495"
      ]
     },
     "execution_count": 27,
     "metadata": {},
     "output_type": "execute_result"
    }
   ],
   "source": [
    "#27. How to compute the euclidean distance between two series?\n",
    "p = pd.Series([1, 2, 3, 4, 5, 6, 7, 8, 9, 10])\n",
    "q = pd.Series([10, 9, 8, 7, 6, 5, 4, 3, 2, 1])\n",
    "(np.sum((p-q)**2))**.5"
   ]
  },
  {
   "cell_type": "code",
   "execution_count": 28,
   "id": "29544506",
   "metadata": {},
   "outputs": [
    {
     "name": "stdout",
     "output_type": "stream",
     "text": [
      "10\n",
      "10\n",
      "7\n"
     ]
    }
   ],
   "source": [
    "# 28. How to find all the local maxima (or peaks) in a numeric series?\n",
    "ser = pd.Series([2, 10, 3, 4, 9, 10, 2, 7, 3])\n",
    "count=0\n",
    "while(count<len(ser)):\n",
    "    \n",
    "    if(count==len(ser)-1):\n",
    "        if(ser[count]>ser[count-1]):\n",
    "            print(ser[count])\n",
    "        break\n",
    "        \n",
    "    if(ser[count]<ser[count+1]):\n",
    "        pass\n",
    "    else:\n",
    "        print(ser[count])\n",
    "    count=count+1\n"
   ]
  },
  {
   "cell_type": "code",
   "execution_count": 29,
   "id": "46718e68",
   "metadata": {},
   "outputs": [
    {
     "data": {
      "text/plain": [
       "'dbccdebcabedcgade'"
      ]
     },
     "execution_count": 29,
     "metadata": {},
     "output_type": "execute_result"
    }
   ],
   "source": [
    "#29. How to replace missing spaces in a string with the least frequent character?\n",
    "\n",
    "my_str = 'dbc deb abed gade'\n",
    "all_freq = {}\n",
    "  \n",
    "for i in my_str:\n",
    "    if i in all_freq:\n",
    "        all_freq[i] += 1\n",
    "    else:\n",
    "        all_freq[i] = 1\n",
    "temp = min(all_freq.values())\n",
    "res = [key for key in all_freq if all_freq[key] == temp]\n",
    "\n",
    "my_str.replace(' ',res[0])"
   ]
  },
  {
   "cell_type": "code",
   "execution_count": 30,
   "id": "e342abd3",
   "metadata": {},
   "outputs": [
    {
     "data": {
      "text/plain": [
       "2000-01-01    1\n",
       "2000-01-08    2\n",
       "2000-01-15    7\n",
       "2000-01-22    8\n",
       "2000-01-29    6\n",
       "2000-02-05    9\n",
       "2000-02-12    5\n",
       "2000-02-19    3\n",
       "2000-02-26    4\n",
       "2000-03-04    5\n",
       "Freq: W-SAT, dtype: int32"
      ]
     },
     "execution_count": 30,
     "metadata": {},
     "output_type": "execute_result"
    }
   ],
   "source": [
    "#30. How to create a TimeSeries starting ‘2000-01-01’ and 10 weekends (saturdays) after that having random numbers as values?\n",
    "ser = pd.Series(np.random.randint(1,10,10), pd.date_range('2000-01-01', periods=10, freq='W-SAT'))\n",
    "ser"
   ]
  },
  {
   "cell_type": "code",
   "execution_count": 31,
   "id": "a4e6b777",
   "metadata": {},
   "outputs": [
    {
     "name": "stdout",
     "output_type": "stream",
     "text": [
      "2000-01-01     1.0\n",
      "2000-01-03    10.0\n",
      "2000-01-06     3.0\n",
      "2000-01-08     NaN\n",
      "dtype: float64\n"
     ]
    },
    {
     "data": {
      "text/plain": [
       "2000-01-01     1.0\n",
       "2000-01-02     1.0\n",
       "2000-01-03    10.0\n",
       "2000-01-04    10.0\n",
       "2000-01-05    10.0\n",
       "2000-01-06     3.0\n",
       "2000-01-07     3.0\n",
       "2000-01-08     NaN\n",
       "Freq: D, dtype: float64"
      ]
     },
     "execution_count": 31,
     "metadata": {},
     "output_type": "execute_result"
    }
   ],
   "source": [
    "#31. How to fill an intermittent time series so all missing dates show up with values of previous non-missing date?\n",
    "ser = pd.Series([1,10,3,np.nan], index=pd.to_datetime(['2000-01-01', '2000-01-03', '2000-01-06', '2000-01-08']))\n",
    "print(ser)\n",
    "\n",
    "ser.resample('D').ffill()  # fill with previous value"
   ]
  },
  {
   "cell_type": "code",
   "execution_count": 32,
   "id": "6b033572",
   "metadata": {},
   "outputs": [
    {
     "data": {
      "text/html": [
       "<div>\n",
       "<style scoped>\n",
       "    .dataframe tbody tr th:only-of-type {\n",
       "        vertical-align: middle;\n",
       "    }\n",
       "\n",
       "    .dataframe tbody tr th {\n",
       "        vertical-align: top;\n",
       "    }\n",
       "\n",
       "    .dataframe thead th {\n",
       "        text-align: right;\n",
       "    }\n",
       "</style>\n",
       "<table border=\"1\" class=\"dataframe\">\n",
       "  <thead>\n",
       "    <tr style=\"text-align: right;\">\n",
       "      <th></th>\n",
       "      <th>0</th>\n",
       "      <th>1</th>\n",
       "      <th>2</th>\n",
       "      <th>3</th>\n",
       "    </tr>\n",
       "  </thead>\n",
       "  <tbody>\n",
       "    <tr>\n",
       "      <th>4</th>\n",
       "      <td>10</td>\n",
       "      <td>35</td>\n",
       "      <td>37</td>\n",
       "      <td>34</td>\n",
       "    </tr>\n",
       "    <tr>\n",
       "      <th>10</th>\n",
       "      <td>17</td>\n",
       "      <td>31</td>\n",
       "      <td>22</td>\n",
       "      <td>31</td>\n",
       "    </tr>\n",
       "  </tbody>\n",
       "</table>\n",
       "</div>"
      ],
      "text/plain": [
       "     0   1   2   3\n",
       "4   10  35  37  34\n",
       "10  17  31  22  31"
      ]
     },
     "execution_count": 32,
     "metadata": {},
     "output_type": "execute_result"
    }
   ],
   "source": [
    "#32.How to get the last n rows of a dataframe with row sum > 100?\n",
    "df = pd.DataFrame(np.random.randint(10, 40, 60).reshape(-1, 4))\n",
    "\n",
    "rowsums = df.apply(np.sum, axis=1)\n",
    "\n",
    "# last two rows with row sum greater than 100\n",
    "last_two_rows = df.iloc[np.where(rowsums > 100)[0][-2:], :]\n",
    "last_two_rows"
   ]
  },
  {
   "cell_type": "code",
   "execution_count": 33,
   "id": "210ff09f",
   "metadata": {},
   "outputs": [
    {
     "data": {
      "text/html": [
       "<div>\n",
       "<style scoped>\n",
       "    .dataframe tbody tr th:only-of-type {\n",
       "        vertical-align: middle;\n",
       "    }\n",
       "\n",
       "    .dataframe tbody tr th {\n",
       "        vertical-align: top;\n",
       "    }\n",
       "\n",
       "    .dataframe thead th {\n",
       "        text-align: right;\n",
       "    }\n",
       "</style>\n",
       "<table border=\"1\" class=\"dataframe\">\n",
       "  <thead>\n",
       "    <tr style=\"text-align: right;\">\n",
       "      <th></th>\n",
       "      <th>random</th>\n",
       "    </tr>\n",
       "  </thead>\n",
       "  <tbody>\n",
       "    <tr>\n",
       "      <th>0</th>\n",
       "      <td>0.171</td>\n",
       "    </tr>\n",
       "    <tr>\n",
       "      <th>1</th>\n",
       "      <td>0.000</td>\n",
       "    </tr>\n",
       "    <tr>\n",
       "      <th>2</th>\n",
       "      <td>0.000</td>\n",
       "    </tr>\n",
       "    <tr>\n",
       "      <th>3</th>\n",
       "      <td>0.015</td>\n",
       "    </tr>\n",
       "    <tr>\n",
       "      <th>4</th>\n",
       "      <td>0.000</td>\n",
       "    </tr>\n",
       "    <tr>\n",
       "      <th>5</th>\n",
       "      <td>0.361</td>\n",
       "    </tr>\n",
       "    <tr>\n",
       "      <th>6</th>\n",
       "      <td>0.002</td>\n",
       "    </tr>\n",
       "    <tr>\n",
       "      <th>7</th>\n",
       "      <td>0.000</td>\n",
       "    </tr>\n",
       "    <tr>\n",
       "      <th>8</th>\n",
       "      <td>0.372</td>\n",
       "    </tr>\n",
       "    <tr>\n",
       "      <th>9</th>\n",
       "      <td>0.000</td>\n",
       "    </tr>\n",
       "  </tbody>\n",
       "</table>\n",
       "</div>"
      ],
      "text/plain": [
       "   random\n",
       "0   0.171\n",
       "1   0.000\n",
       "2   0.000\n",
       "3   0.015\n",
       "4   0.000\n",
       "5   0.361\n",
       "6   0.002\n",
       "7   0.000\n",
       "8   0.372\n",
       "9   0.000"
      ]
     },
     "execution_count": 33,
     "metadata": {},
     "output_type": "execute_result"
    }
   ],
   "source": [
    "#33.How to format or suppress scientific notations in a pandas dataframe?\n",
    "df = pd.DataFrame(np.random.random(10)**10, columns=['random'])\n",
    "df.round(3)\n",
    "\n"
   ]
  },
  {
   "cell_type": "code",
   "execution_count": 34,
   "id": "c8716ff3",
   "metadata": {},
   "outputs": [
    {
     "data": {
      "text/plain": [
       "2000-01-01    2\n",
       "2000-01-08    2\n",
       "2000-01-15    4\n",
       "2000-01-22    7\n",
       "2000-01-29    7\n",
       "2000-02-05    7\n",
       "2000-02-12    7\n",
       "2000-02-19    9\n",
       "2000-02-26    3\n",
       "2000-03-04    6\n",
       "Freq: W-SAT, dtype: int32"
      ]
     },
     "execution_count": 34,
     "metadata": {},
     "output_type": "execute_result"
    }
   ],
   "source": [
    "#34. How to create a TimeSeries starting ‘2000-01-01’ and 10 weekends (saturdays) after that having random numbers as values?\n",
    "ser = pd.Series(np.random.randint(1,10,10), pd.date_range('2000-01-01', periods=10, freq='W-SAT'))\n",
    "ser"
   ]
  },
  {
   "cell_type": "code",
   "execution_count": 35,
   "id": "adb9f4df",
   "metadata": {},
   "outputs": [
    {
     "name": "stdout",
     "output_type": "stream",
     "text": [
      "    0   1   2   3   4\n",
      "0   0   1   2   3   4\n",
      "1   5   6   7   8   9\n",
      "2  10  11  12  13  14\n",
      "       \n",
      "[[ 0  1  2  3  4]\n",
      " [ 5  6  7  8  9]\n",
      " [10 11 12 13 14]]\n"
     ]
    }
   ],
   "source": [
    "#35. How to create a dataframe with rows as strides from a given series?\n",
    "\n",
    "L = pd.Series(range(15))\n",
    "l=list(L)\n",
    "l=np.array(l)\n",
    "l=l.reshape(3,5)\n",
    "df=pd.DataFrame(l)\n",
    "print(df)\n",
    "\n",
    "print(\"       \")\n",
    "print(l)"
   ]
  },
  {
   "cell_type": "code",
   "execution_count": 36,
   "id": "2f315600",
   "metadata": {},
   "outputs": [
    {
     "name": "stdout",
     "output_type": "stream",
     "text": [
      "    Weekday  Vehicles involved\n",
      "0    Friday                  2\n",
      "1    Friday                  2\n",
      "2    Friday                  2\n",
      "3    Friday                  2\n",
      "4  Thursday                  3\n"
     ]
    }
   ],
   "source": [
    "#36. How to import only specified columns from a csv file?\n",
    "\n",
    "df = pd.read_csv('accidents_2017.csv', usecols=['Weekday', 'Vehicles involved'])\n",
    "print(df.head())"
   ]
  },
  {
   "cell_type": "code",
   "execution_count": 37,
   "id": "f2fe8241",
   "metadata": {},
   "outputs": [
    {
     "name": "stdout",
     "output_type": "stream",
     "text": [
      "(10339, 15)\n",
      "Id                    object\n",
      "District Name         object\n",
      "Neighborhood Name     object\n",
      "Street                object\n",
      "Weekday               object\n",
      "Month                 object\n",
      "Day                    int64\n",
      "Hour                   int64\n",
      "Part of the day       object\n",
      "Mild injuries          int64\n",
      "Serious injuries       int64\n",
      "Victims                int64\n",
      "Vehicles involved      int64\n",
      "Longitude            float64\n",
      "Latitude             float64\n",
      "dtype: object\n",
      "[['2017S008429    ' 'Unknown' 'Unknown' ... 2 2.12562442 41.34004482]\n",
      " ['2017S007316    ' 'Unknown' 'Unknown' ... 2 2.12045245 41.33942606]\n",
      " ['2017S010210    ' 'Unknown' 'Unknown' ... 2 2.1673561 41.3608855]\n",
      " ...\n",
      " ['2017S010718    ' 'Sant Andreu' 'el Bon Pastor' ... 2 2.205607\n",
      "  41.443894]\n",
      " ['2017S006145    ' 'Sant Andreu' 'el Bon Pastor' ... 2 2.205118\n",
      "  41.444824]\n",
      " ['2017S000178    ' 'Sant Andreu' 'el Bon Pastor' ... 1 2.200956\n",
      "  41.437125]]\n"
     ]
    }
   ],
   "source": [
    "#37. How to get the nrows, ncolumns, datatype, summary stats of each column of a dataframe? \n",
    "# Also get the array and list equivalent.\n",
    "\n",
    "df = pd.read_csv('accidents_2017.csv')\n",
    "print(df.shape)\n",
    "print(df.dtypes)\n",
    "#print(df.get_dtype_counts())\n",
    "#print(df.dtypes.value_counts())\n",
    "#df_stats = df.describe()                                    \n",
    "df_arr = df.values\n",
    "df_list = df.values.tolist()\n",
    "print(df_arr)\n"
   ]
  },
  {
   "cell_type": "code",
   "execution_count": 38,
   "id": "6e9b3970",
   "metadata": {},
   "outputs": [
    {
     "data": {
      "text/html": [
       "<div>\n",
       "<style scoped>\n",
       "    .dataframe tbody tr th:only-of-type {\n",
       "        vertical-align: middle;\n",
       "    }\n",
       "\n",
       "    .dataframe tbody tr th {\n",
       "        vertical-align: top;\n",
       "    }\n",
       "\n",
       "    .dataframe thead th {\n",
       "        text-align: right;\n",
       "    }\n",
       "</style>\n",
       "<table border=\"1\" class=\"dataframe\">\n",
       "  <thead>\n",
       "    <tr style=\"text-align: right;\">\n",
       "      <th></th>\n",
       "      <th>Weekday</th>\n",
       "      <th>Vehicles involved</th>\n",
       "    </tr>\n",
       "  </thead>\n",
       "  <tbody>\n",
       "    <tr>\n",
       "      <th>37</th>\n",
       "      <td>Wednesday</td>\n",
       "      <td>1</td>\n",
       "    </tr>\n",
       "    <tr>\n",
       "      <th>53</th>\n",
       "      <td>Wednesday</td>\n",
       "      <td>5</td>\n",
       "    </tr>\n",
       "    <tr>\n",
       "      <th>57</th>\n",
       "      <td>Tuesday</td>\n",
       "      <td>2</td>\n",
       "    </tr>\n",
       "    <tr>\n",
       "      <th>133</th>\n",
       "      <td>Friday</td>\n",
       "      <td>1</td>\n",
       "    </tr>\n",
       "    <tr>\n",
       "      <th>176</th>\n",
       "      <td>Monday</td>\n",
       "      <td>2</td>\n",
       "    </tr>\n",
       "    <tr>\n",
       "      <th>...</th>\n",
       "      <td>...</td>\n",
       "      <td>...</td>\n",
       "    </tr>\n",
       "    <tr>\n",
       "      <th>10091</th>\n",
       "      <td>Saturday</td>\n",
       "      <td>2</td>\n",
       "    </tr>\n",
       "    <tr>\n",
       "      <th>10140</th>\n",
       "      <td>Thursday</td>\n",
       "      <td>2</td>\n",
       "    </tr>\n",
       "    <tr>\n",
       "      <th>10141</th>\n",
       "      <td>Monday</td>\n",
       "      <td>1</td>\n",
       "    </tr>\n",
       "    <tr>\n",
       "      <th>10248</th>\n",
       "      <td>Friday</td>\n",
       "      <td>2</td>\n",
       "    </tr>\n",
       "    <tr>\n",
       "      <th>10260</th>\n",
       "      <td>Monday</td>\n",
       "      <td>2</td>\n",
       "    </tr>\n",
       "  </tbody>\n",
       "</table>\n",
       "<p>207 rows × 2 columns</p>\n",
       "</div>"
      ],
      "text/plain": [
       "         Weekday  Vehicles involved\n",
       "37     Wednesday                  1\n",
       "53     Wednesday                  5\n",
       "57       Tuesday                  2\n",
       "133       Friday                  1\n",
       "176       Monday                  2\n",
       "...          ...                ...\n",
       "10091   Saturday                  2\n",
       "10140   Thursday                  2\n",
       "10141     Monday                  1\n",
       "10248     Friday                  2\n",
       "10260     Monday                  2\n",
       "\n",
       "[207 rows x 2 columns]"
      ]
     },
     "execution_count": 38,
     "metadata": {},
     "output_type": "execute_result"
    }
   ],
   "source": [
    "#38. How to extract the row and column number of a particular cell with given criterion?\n",
    "\n",
    "df = pd.read_csv('accidents_2017.csv')\n",
    "\n",
    "df.loc[df.Hour == np.max(df.Hour), ['Weekday', 'Vehicles involved']]"
   ]
  },
  {
   "cell_type": "code",
   "execution_count": 39,
   "id": "e9785360",
   "metadata": {},
   "outputs": [
    {
     "name": "stdout",
     "output_type": "stream",
     "text": [
      "Index(['Id', 'District Name', 'Neighborhood Name', 'Street', 'Weekday',\n",
      "       'Month', 'Day', 'Hour', 'Part of the day', 'Mild injuries',\n",
      "       'Serious injuries', 'Victims', 'Vehicles involved', 'Longitude',\n",
      "       'Latitude'],\n",
      "      dtype='object')\n",
      "\n",
      " \n",
      "\n",
      "Index(['Id', 'District_Name', 'Neighborhood_Name', 'Street', 'Weekday',\n",
      "       'Month', 'Day', 'Hour', 'Part_of_the_day', 'Mild_injuries',\n",
      "       'Serious_injuries', 'Victims', 'Vehicles_involved', 'Longitude',\n",
      "       'Latitude'],\n",
      "      dtype='object')\n"
     ]
    }
   ],
   "source": [
    "#39. How to rename a specific columns in a dataframe?\n",
    "\n",
    "df = pd.read_csv('accidents_2017.csv')\n",
    "print(df.columns)\n",
    "\n",
    "print('\\n \\n')\n",
    "df.columns = df.columns.map(lambda x: x.replace(' ', '_'))\n",
    "print(df.columns)"
   ]
  },
  {
   "cell_type": "code",
   "execution_count": 40,
   "id": "15d6d823",
   "metadata": {},
   "outputs": [
    {
     "data": {
      "text/plain": [
       "False"
      ]
     },
     "execution_count": 40,
     "metadata": {},
     "output_type": "execute_result"
    }
   ],
   "source": [
    "#40. How to check if a dataframe has any missing values?\n",
    "df = pd.read_csv('accidents_2017.csv')\n",
    "df.isnull().values.any()"
   ]
  },
  {
   "cell_type": "code",
   "execution_count": 41,
   "id": "6238ab17",
   "metadata": {},
   "outputs": [
    {
     "data": {
      "text/plain": [
       "0"
      ]
     },
     "execution_count": 41,
     "metadata": {},
     "output_type": "execute_result"
    }
   ],
   "source": [
    "#41. How to count the number of missing values in each column?\n",
    "df = pd.read_csv('accidents_2017.csv')\n",
    "n_missings_each_col = df.apply(lambda x: x.isnull().sum())\n",
    "n_missings_each_col.argmax()"
   ]
  },
  {
   "cell_type": "code",
   "execution_count": 42,
   "id": "856dfae2",
   "metadata": {},
   "outputs": [
    {
     "name": "stdout",
     "output_type": "stream",
     "text": [
      "   Mild injuries  Serious injuries\n",
      "0              2                 0\n",
      "1              2                 0\n",
      "2              5                 0\n",
      "3              1                 0\n",
      "4              1                 0\n"
     ]
    }
   ],
   "source": [
    "#42. How to replace missing values of multiple numeric columns with the mean?\n",
    "df = pd.read_csv('accidents_2017.csv')\n",
    "df_out = df[['Mild injuries', 'Serious injuries']] = df[['Mild injuries', 'Serious injuries']].apply(lambda x: x.fillna(x.mean()))\n",
    "print(df_out.head())"
   ]
  },
  {
   "cell_type": "code",
   "execution_count": 43,
   "id": "079eac75",
   "metadata": {},
   "outputs": [],
   "source": [
    "#43. How to use apply function on existing columns with global variables as additional arguments?\n",
    "df = pd.read_csv('accidents_2017.csv')\n",
    "d = {'Mild injuries': np.nanmean, 'Serious injuries': np.nanmedian}\n",
    "df[['Mild injuries', 'Serious injuries']] = df[['Mild injuries', 'Serious injuries']].apply(lambda x, d: x.fillna(d[x.name](x)), args=(d, ))"
   ]
  },
  {
   "cell_type": "code",
   "execution_count": 44,
   "id": "62c415b5",
   "metadata": {},
   "outputs": [
    {
     "data": {
      "text/plain": [
       "pandas.core.frame.DataFrame"
      ]
     },
     "execution_count": 44,
     "metadata": {},
     "output_type": "execute_result"
    }
   ],
   "source": [
    "#44. How to select a specific column from a dataframe as a dataframe instead of a series?\n",
    "df = pd.DataFrame(np.arange(20).reshape(-1, 5), columns=list('abcde'))\n",
    "type(df[['a']])\n",
    "type(df.loc[:, ['a']])\n",
    "type(df.iloc[:, [0]])"
   ]
  },
  {
   "cell_type": "code",
   "execution_count": 45,
   "id": "5a71c77e",
   "metadata": {},
   "outputs": [
    {
     "data": {
      "text/html": [
       "<div>\n",
       "<style scoped>\n",
       "    .dataframe tbody tr th:only-of-type {\n",
       "        vertical-align: middle;\n",
       "    }\n",
       "\n",
       "    .dataframe tbody tr th {\n",
       "        vertical-align: top;\n",
       "    }\n",
       "\n",
       "    .dataframe thead th {\n",
       "        text-align: right;\n",
       "    }\n",
       "</style>\n",
       "<table border=\"1\" class=\"dataframe\">\n",
       "  <thead>\n",
       "    <tr style=\"text-align: right;\">\n",
       "      <th></th>\n",
       "      <th>c</th>\n",
       "      <th>b</th>\n",
       "      <th>a</th>\n",
       "      <th>d</th>\n",
       "      <th>e</th>\n",
       "    </tr>\n",
       "  </thead>\n",
       "  <tbody>\n",
       "    <tr>\n",
       "      <th>0</th>\n",
       "      <td>2</td>\n",
       "      <td>1</td>\n",
       "      <td>0</td>\n",
       "      <td>3</td>\n",
       "      <td>4</td>\n",
       "    </tr>\n",
       "    <tr>\n",
       "      <th>1</th>\n",
       "      <td>7</td>\n",
       "      <td>6</td>\n",
       "      <td>5</td>\n",
       "      <td>8</td>\n",
       "      <td>9</td>\n",
       "    </tr>\n",
       "    <tr>\n",
       "      <th>2</th>\n",
       "      <td>12</td>\n",
       "      <td>11</td>\n",
       "      <td>10</td>\n",
       "      <td>13</td>\n",
       "      <td>14</td>\n",
       "    </tr>\n",
       "    <tr>\n",
       "      <th>3</th>\n",
       "      <td>17</td>\n",
       "      <td>16</td>\n",
       "      <td>15</td>\n",
       "      <td>18</td>\n",
       "      <td>19</td>\n",
       "    </tr>\n",
       "  </tbody>\n",
       "</table>\n",
       "</div>"
      ],
      "text/plain": [
       "    c   b   a   d   e\n",
       "0   2   1   0   3   4\n",
       "1   7   6   5   8   9\n",
       "2  12  11  10  13  14\n",
       "3  17  16  15  18  19"
      ]
     },
     "execution_count": 45,
     "metadata": {},
     "output_type": "execute_result"
    }
   ],
   "source": [
    "#45. How to change the order of columns of a dataframe?\n",
    "df = pd.DataFrame(np.arange(20).reshape(-1, 5), columns=list('abcde'))\n",
    "df[list('cbade')]"
   ]
  },
  {
   "cell_type": "code",
   "execution_count": 46,
   "id": "0cb2b92a",
   "metadata": {},
   "outputs": [
    {
     "data": {
      "text/html": [
       "<div>\n",
       "<style scoped>\n",
       "    .dataframe tbody tr th:only-of-type {\n",
       "        vertical-align: middle;\n",
       "    }\n",
       "\n",
       "    .dataframe tbody tr th {\n",
       "        vertical-align: top;\n",
       "    }\n",
       "\n",
       "    .dataframe thead th {\n",
       "        text-align: right;\n",
       "    }\n",
       "</style>\n",
       "<table border=\"1\" class=\"dataframe\">\n",
       "  <thead>\n",
       "    <tr style=\"text-align: right;\">\n",
       "      <th></th>\n",
       "      <th>Id</th>\n",
       "      <th>...</th>\n",
       "    </tr>\n",
       "  </thead>\n",
       "  <tbody>\n",
       "    <tr>\n",
       "      <th>0</th>\n",
       "      <td>2017S008429</td>\n",
       "      <td>...</td>\n",
       "    </tr>\n",
       "    <tr>\n",
       "      <th>1</th>\n",
       "      <td>2017S007316</td>\n",
       "      <td>...</td>\n",
       "    </tr>\n",
       "    <tr>\n",
       "      <th>2</th>\n",
       "      <td>2017S010210</td>\n",
       "      <td>...</td>\n",
       "    </tr>\n",
       "    <tr>\n",
       "      <th>3</th>\n",
       "      <td>2017S006364</td>\n",
       "      <td>...</td>\n",
       "    </tr>\n",
       "    <tr>\n",
       "      <th>4</th>\n",
       "      <td>2017S004615</td>\n",
       "      <td>...</td>\n",
       "    </tr>\n",
       "    <tr>\n",
       "      <th>...</th>\n",
       "      <td>...</td>\n",
       "      <td>...</td>\n",
       "    </tr>\n",
       "    <tr>\n",
       "      <th>10334</th>\n",
       "      <td>2017S003667</td>\n",
       "      <td>...</td>\n",
       "    </tr>\n",
       "    <tr>\n",
       "      <th>10335</th>\n",
       "      <td>2017S001896</td>\n",
       "      <td>...</td>\n",
       "    </tr>\n",
       "    <tr>\n",
       "      <th>10336</th>\n",
       "      <td>2017S010718</td>\n",
       "      <td>...</td>\n",
       "    </tr>\n",
       "    <tr>\n",
       "      <th>10337</th>\n",
       "      <td>2017S006145</td>\n",
       "      <td>...</td>\n",
       "    </tr>\n",
       "    <tr>\n",
       "      <th>10338</th>\n",
       "      <td>2017S000178</td>\n",
       "      <td>...</td>\n",
       "    </tr>\n",
       "  </tbody>\n",
       "</table>\n",
       "<p>10339 rows × 15 columns</p>\n",
       "</div>"
      ],
      "text/plain": [
       "                    Id  ...\n",
       "0      2017S008429      ...\n",
       "1      2017S007316      ...\n",
       "2      2017S010210      ...\n",
       "3      2017S006364      ...\n",
       "4      2017S004615      ...\n",
       "...                ...  ...\n",
       "10334  2017S003667      ...\n",
       "10335  2017S001896      ...\n",
       "10336  2017S010718      ...\n",
       "10337  2017S006145      ...\n",
       "10338  2017S000178      ...\n",
       "\n",
       "[10339 rows x 15 columns]"
      ]
     },
     "execution_count": 46,
     "metadata": {},
     "output_type": "execute_result"
    }
   ],
   "source": [
    "#46. How to set the number of rows and columns displayed in the output?\n",
    "df = pd.read_csv('accidents_2017.csv')\n",
    "pd.set_option('display.max_columns', 1)\n",
    "pd.set_option('display.max_rows', 10)\n",
    "df"
   ]
  },
  {
   "cell_type": "code",
   "execution_count": 47,
   "id": "edaa227d",
   "metadata": {},
   "outputs": [
    {
     "data": {
      "text/html": [
       "<div>\n",
       "<style scoped>\n",
       "    .dataframe tbody tr th:only-of-type {\n",
       "        vertical-align: middle;\n",
       "    }\n",
       "\n",
       "    .dataframe tbody tr th {\n",
       "        vertical-align: top;\n",
       "    }\n",
       "\n",
       "    .dataframe thead th {\n",
       "        text-align: right;\n",
       "    }\n",
       "</style>\n",
       "<table border=\"1\" class=\"dataframe\">\n",
       "  <thead>\n",
       "    <tr style=\"text-align: right;\">\n",
       "      <th></th>\n",
       "      <th>random</th>\n",
       "    </tr>\n",
       "  </thead>\n",
       "  <tbody>\n",
       "    <tr>\n",
       "      <th>0</th>\n",
       "      <td>0.0000</td>\n",
       "    </tr>\n",
       "    <tr>\n",
       "      <th>1</th>\n",
       "      <td>0.0026</td>\n",
       "    </tr>\n",
       "    <tr>\n",
       "      <th>2</th>\n",
       "      <td>0.0000</td>\n",
       "    </tr>\n",
       "    <tr>\n",
       "      <th>3</th>\n",
       "      <td>0.0000</td>\n",
       "    </tr>\n",
       "  </tbody>\n",
       "</table>\n",
       "</div>"
      ],
      "text/plain": [
       "   random\n",
       "0  0.0000\n",
       "1  0.0026\n",
       "2  0.0000\n",
       "3  0.0000"
      ]
     },
     "execution_count": 47,
     "metadata": {},
     "output_type": "execute_result"
    }
   ],
   "source": [
    "#47. How to format or suppress scientific notations in a pandas dataframe?\n",
    "df = pd.DataFrame(np.random.random(4)**10, columns=['random'])\n",
    "df.round(4)"
   ]
  },
  {
   "cell_type": "code",
   "execution_count": 48,
   "id": "e8415ffe",
   "metadata": {},
   "outputs": [
    {
     "name": "stdout",
     "output_type": "stream",
     "text": [
      "     random\n",
      "0  0.557102\n",
      "1  0.581703\n",
      "2  0.474687\n",
      "3  0.024537\n"
     ]
    },
    {
     "data": {
      "text/html": [
       "<style type=\"text/css\">\n",
       "</style>\n",
       "<table id=\"T_df658\">\n",
       "  <thead>\n",
       "    <tr>\n",
       "      <th class=\"blank level0\" >&nbsp;</th>\n",
       "      <th id=\"T_df658_level0_col0\" class=\"col_heading level0 col0\" >random</th>\n",
       "    </tr>\n",
       "  </thead>\n",
       "  <tbody>\n",
       "    <tr>\n",
       "      <th id=\"T_df658_level0_row0\" class=\"row_heading level0 row0\" >0</th>\n",
       "      <td id=\"T_df658_row0_col0\" class=\"data row0 col0\" >55.71%</td>\n",
       "    </tr>\n",
       "    <tr>\n",
       "      <th id=\"T_df658_level0_row1\" class=\"row_heading level0 row1\" >1</th>\n",
       "      <td id=\"T_df658_row1_col0\" class=\"data row1 col0\" >58.17%</td>\n",
       "    </tr>\n",
       "    <tr>\n",
       "      <th id=\"T_df658_level0_row2\" class=\"row_heading level0 row2\" >2</th>\n",
       "      <td id=\"T_df658_row2_col0\" class=\"data row2 col0\" >47.47%</td>\n",
       "    </tr>\n",
       "    <tr>\n",
       "      <th id=\"T_df658_level0_row3\" class=\"row_heading level0 row3\" >3</th>\n",
       "      <td id=\"T_df658_row3_col0\" class=\"data row3 col0\" >2.45%</td>\n",
       "    </tr>\n",
       "  </tbody>\n",
       "</table>\n"
      ],
      "text/plain": [
       "<pandas.io.formats.style.Styler at 0x194fca28970>"
      ]
     },
     "execution_count": 48,
     "metadata": {},
     "output_type": "execute_result"
    }
   ],
   "source": [
    "#48. How to format all the values in a dataframe as percentages?\n",
    "df = pd.DataFrame(np.random.random(4), columns=['random'])\n",
    "print(df)\n",
    "out = df.style.format({\n",
    "    'random': '{0:.2%}'.format,\n",
    "})\n",
    "\n",
    "out"
   ]
  },
  {
   "cell_type": "code",
   "execution_count": 49,
   "id": "b10782cc",
   "metadata": {},
   "outputs": [
    {
     "name": "stdout",
     "output_type": "stream",
     "text": [
      "       Hour\n",
      "0         8\n",
      "100      16\n",
      "200      14\n",
      "300       8\n",
      "400      15\n",
      "...     ...\n",
      "9900     18\n",
      "10000     8\n",
      "10100    17\n",
      "10200     5\n",
      "10300     9\n",
      "\n",
      "[104 rows x 1 columns]\n"
     ]
    }
   ],
   "source": [
    "#49. How to filter every nth row in a dataframe?\n",
    "df = pd.read_csv('accidents_2017.csv')\n",
    "print(df.iloc[::100, :][['Hour']])"
   ]
  },
  {
   "cell_type": "code",
   "execution_count": 50,
   "id": "f90dbfc0",
   "metadata": {
    "scrolled": true
   },
   "outputs": [
    {
     "name": "stdout",
     "output_type": "stream",
     "text": [
      "    a  ...\n",
      "0  11  ...\n",
      "1   7  ...\n",
      "2   8  ...\n",
      "3   8  ...\n",
      "4  22  ...\n",
      "5  14  ...\n",
      "6   7  ...\n",
      "7   6  ...\n",
      "8  28  ...\n",
      "9  22  ...\n",
      "\n",
      "[10 rows x 3 columns]\n"
     ]
    },
    {
     "data": {
      "text/plain": [
       "0"
      ]
     },
     "execution_count": 50,
     "metadata": {},
     "output_type": "execute_result"
    }
   ],
   "source": [
    "#50. How to get the row number of the nth largest value in a column?\n",
    "df = pd.DataFrame(np.random.randint(1, 30, 30).reshape(10,-1), columns=list('abc'))\n",
    "print(df)\n",
    "n = 5\n",
    "df['a'].argsort()[::-1][n]"
   ]
  },
  {
   "cell_type": "code",
   "execution_count": null,
   "id": "2f1fe58f",
   "metadata": {},
   "outputs": [],
   "source": []
  }
 ],
 "metadata": {
  "kernelspec": {
   "display_name": "Python 3 (ipykernel)",
   "language": "python",
   "name": "python3"
  },
  "language_info": {
   "codemirror_mode": {
    "name": "ipython",
    "version": 3
   },
   "file_extension": ".py",
   "mimetype": "text/x-python",
   "name": "python",
   "nbconvert_exporter": "python",
   "pygments_lexer": "ipython3",
   "version": "3.9.13"
  }
 },
 "nbformat": 4,
 "nbformat_minor": 5
}
