{
 "cells": [
  {
   "cell_type": "markdown",
   "id": "e1e98199",
   "metadata": {},
   "source": [
    "###### 1. How could you create a one-dimensional NumPy array of the numbers from 10 to 100, counting by 10?"
   ]
  },
  {
   "cell_type": "code",
   "execution_count": 14,
   "id": "18e6bf3f",
   "metadata": {},
   "outputs": [
    {
     "name": "stdout",
     "output_type": "stream",
     "text": [
      "<class 'numpy.ndarray'> [ 10.  20.  30.  40.  50.  60.  70.  80.  90. 100.]\n"
     ]
    }
   ],
   "source": [
    "import numpy as np\n",
    "import pandas as pd\n",
    "import matplotlib.pyplot as plt\n",
    "import scipy.stats as stats\n",
    "\n",
    "array=np.linspace(10,100,10)\n",
    "\n",
    "\n",
    "print(type(array),array)"
   ]
  },
  {
   "cell_type": "markdown",
   "id": "6ea64ebf",
   "metadata": {},
   "source": [
    "##### 2. What is the data type for 4?"
   ]
  },
  {
   "cell_type": "code",
   "execution_count": null,
   "id": "1da1aa6c",
   "metadata": {},
   "outputs": [],
   "source": [
    "print(type(4))"
   ]
  },
  {
   "cell_type": "markdown",
   "id": "b42a2cd6",
   "metadata": {},
   "source": [
    "So,it is of type Integer"
   ]
  },
  {
   "cell_type": "markdown",
   "id": "a3854575",
   "metadata": {},
   "source": [
    "##### 3 Given this code:"
   ]
  },
  {
   "cell_type": "code",
   "execution_count": null,
   "id": "a82ab3dc",
   "metadata": {},
   "outputs": [],
   "source": [
    "z_list=[z for z in range(0,5)]\n",
    "y_list=[z_list for y in range(0,4)]\n",
    "x_list=[y_list for y in range(0,3)]\n",
    "\n",
    "x_array=np.array(x_list)\n"
   ]
  },
  {
   "cell_type": "code",
   "execution_count": null,
   "id": "86792a37",
   "metadata": {},
   "outputs": [],
   "source": [
    "print(np.shape(x_array))"
   ]
  },
  {
   "cell_type": "markdown",
   "id": "f6447643",
   "metadata": {},
   "source": [
    "the shape of the x_array is (3,4,5)"
   ]
  },
  {
   "cell_type": "code",
   "execution_count": null,
   "id": "64608df4",
   "metadata": {},
   "outputs": [],
   "source": [
    "x_array.ndim"
   ]
  },
  {
   "cell_type": "markdown",
   "id": "e1ddb93f",
   "metadata": {},
   "source": [
    "the Dimension of the x_array is 3"
   ]
  },
  {
   "cell_type": "markdown",
   "id": "cfa018bd",
   "metadata": {},
   "source": [
    "##### 4. Write a program to generate the following output"
   ]
  },
  {
   "cell_type": "code",
   "execution_count": 19,
   "id": "38c8cd4f",
   "metadata": {},
   "outputs": [],
   "source": [
    "dictt={\n",
    "    'age':[19,26,22,58,33,44],\n",
    "    'gender': ['F','M','M','F','M','F'],\n",
    "    'job':['Student','Student','Student','Manager','Engineer','Scientist'],\n",
    "    'name':['alice','john','eric','paul','peter','julie'],\n",
    "    'height':[165,180,175,None,None,171]\n",
    "    \n",
    "}"
   ]
  },
  {
   "cell_type": "code",
   "execution_count": 20,
   "id": "8e2f79a9",
   "metadata": {},
   "outputs": [
    {
     "data": {
      "text/plain": [
       "{'age': [19, 26, 22, 58, 33, 44],\n",
       " 'gender': ['F', 'M', 'M', 'F', 'M', 'F'],\n",
       " 'job': ['Student', 'Student', 'Student', 'Manager', 'Engineer', 'Scientist'],\n",
       " 'name': ['alice', 'john', 'eric', 'paul', 'peter', 'julie'],\n",
       " 'height': [165, 180, 175, None, None, 171]}"
      ]
     },
     "execution_count": 20,
     "metadata": {},
     "output_type": "execute_result"
    }
   ],
   "source": [
    "dictt"
   ]
  },
  {
   "cell_type": "code",
   "execution_count": 21,
   "id": "baba1072",
   "metadata": {},
   "outputs": [],
   "source": [
    "Data=pd.DataFrame(dictt)"
   ]
  },
  {
   "cell_type": "code",
   "execution_count": 22,
   "id": "0004ffea",
   "metadata": {},
   "outputs": [
    {
     "data": {
      "text/html": [
       "<div>\n",
       "<style scoped>\n",
       "    .dataframe tbody tr th:only-of-type {\n",
       "        vertical-align: middle;\n",
       "    }\n",
       "\n",
       "    .dataframe tbody tr th {\n",
       "        vertical-align: top;\n",
       "    }\n",
       "\n",
       "    .dataframe thead th {\n",
       "        text-align: right;\n",
       "    }\n",
       "</style>\n",
       "<table border=\"1\" class=\"dataframe\">\n",
       "  <thead>\n",
       "    <tr style=\"text-align: right;\">\n",
       "      <th></th>\n",
       "      <th>age</th>\n",
       "      <th>gender</th>\n",
       "      <th>job</th>\n",
       "      <th>name</th>\n",
       "      <th>height</th>\n",
       "    </tr>\n",
       "  </thead>\n",
       "  <tbody>\n",
       "    <tr>\n",
       "      <th>0</th>\n",
       "      <td>19</td>\n",
       "      <td>F</td>\n",
       "      <td>Student</td>\n",
       "      <td>alice</td>\n",
       "      <td>165.0</td>\n",
       "    </tr>\n",
       "    <tr>\n",
       "      <th>1</th>\n",
       "      <td>26</td>\n",
       "      <td>M</td>\n",
       "      <td>Student</td>\n",
       "      <td>john</td>\n",
       "      <td>180.0</td>\n",
       "    </tr>\n",
       "    <tr>\n",
       "      <th>2</th>\n",
       "      <td>22</td>\n",
       "      <td>M</td>\n",
       "      <td>Student</td>\n",
       "      <td>eric</td>\n",
       "      <td>175.0</td>\n",
       "    </tr>\n",
       "    <tr>\n",
       "      <th>3</th>\n",
       "      <td>58</td>\n",
       "      <td>F</td>\n",
       "      <td>Manager</td>\n",
       "      <td>paul</td>\n",
       "      <td>NaN</td>\n",
       "    </tr>\n",
       "    <tr>\n",
       "      <th>4</th>\n",
       "      <td>33</td>\n",
       "      <td>M</td>\n",
       "      <td>Engineer</td>\n",
       "      <td>peter</td>\n",
       "      <td>NaN</td>\n",
       "    </tr>\n",
       "    <tr>\n",
       "      <th>5</th>\n",
       "      <td>44</td>\n",
       "      <td>F</td>\n",
       "      <td>Scientist</td>\n",
       "      <td>julie</td>\n",
       "      <td>171.0</td>\n",
       "    </tr>\n",
       "  </tbody>\n",
       "</table>\n",
       "</div>"
      ],
      "text/plain": [
       "   age gender        job   name  height\n",
       "0   19      F    Student  alice   165.0\n",
       "1   26      M    Student   john   180.0\n",
       "2   22      M    Student   eric   175.0\n",
       "3   58      F    Manager   paul     NaN\n",
       "4   33      M   Engineer  peter     NaN\n",
       "5   44      F  Scientist  julie   171.0"
      ]
     },
     "execution_count": 22,
     "metadata": {},
     "output_type": "execute_result"
    }
   ],
   "source": [
    "Data"
   ]
  },
  {
   "cell_type": "markdown",
   "id": "159c1bd4",
   "metadata": {},
   "source": [
    "#####  5.For certain programs, the following is the output. What inferences you can make?"
   ]
  },
  {
   "cell_type": "markdown",
   "id": "72c71a01",
   "metadata": {},
   "source": [
    "Inference:\n",
    "The average salary of Y management is More in all three cases campared to N.\n",
    "The Bachelors in management N are having higher standard deviation .\n"
   ]
  },
  {
   "cell_type": "markdown",
   "id": "0c1eab9f",
   "metadata": {},
   "source": [
    "##### 6. Write a program to test the hypothesis 𝐻0: 𝜇 = 1.75 vs 𝐻1: 𝜇 ≠ 1.75 based on the \n",
    "###### following observations:\n",
    "###### 1.83, 1.83, 1.73, 1.82, 1.83, 1.73, 1.99, 1.85, 1.68, 1.87"
   ]
  },
  {
   "cell_type": "code",
   "execution_count": 11,
   "id": "fa187263",
   "metadata": {},
   "outputs": [],
   "source": [
    "x=[1.83, 1.83, 1.73, 1.82, 1.83, 1.73, 1.99, 1.85, 1.68, 1.87]"
   ]
  },
  {
   "cell_type": "code",
   "execution_count": 12,
   "id": "8f79fa5a",
   "metadata": {},
   "outputs": [
    {
     "name": "stdout",
     "output_type": "stream",
     "text": [
      "2.3968766311585883\n"
     ]
    }
   ],
   "source": [
    "xbar = np.mean(x)                       \n",
    "mu = 1.75                                        \n",
    "s = np.std(x, ddof=1)                               \n",
    "n = len(x)                                           \n",
    "tobs = (xbar - mu) / (s / np.sqrt(n))\n",
    "print(tobs)"
   ]
  },
  {
   "cell_type": "code",
   "execution_count": 15,
   "id": "f7823dd6",
   "metadata": {},
   "outputs": [
    {
     "data": {
      "text/plain": [
       "<matplotlib.legend.Legend at 0x24f3ceaf4f0>"
      ]
     },
     "execution_count": 15,
     "metadata": {},
     "output_type": "execute_result"
    },
    {
     "data": {
      "image/png": "[encoded data removed]",
      "text/plain": [
       "<Figure size 432x288 with 1 Axes>"
      ]
     },
     "metadata": {
      "needs_background": "light"
     },
     "output_type": "display_data"
    }
   ],
   "source": [
    "tvalues = np.linspace(-10, 10, 100)\n",
    "plt.plot(tvalues, stats.t.pdf(tvalues, n-1), 'b-', label=\"T(n-1)\")\n",
    "upper_tval_tvalues = tvalues[tvalues > tobs]\n",
    "plt.fill_between(upper_tval_tvalues, 0, stats.t.pdf(upper_tval_tvalues, n-1), alpha=.9, label=\"p-value\")\n",
    "plt.legend()"
   ]
  },
  {
   "cell_type": "markdown",
   "id": "9e094502",
   "metadata": {},
   "source": [
    "##### 7. Write a program to plot the following function: $𝑓(𝑥; 𝜃) = (1 + 𝜃)𝑥^𝜃 $ , 0 < 𝑥 < 1, 𝜃 > −1"
   ]
  },
  {
   "cell_type": "code",
   "execution_count": 8,
   "id": "f00a168e",
   "metadata": {},
   "outputs": [],
   "source": [
    "def f(x,tet):\n",
    "    return (1+tet)*(x)**tet"
   ]
  },
  {
   "cell_type": "code",
   "execution_count": 9,
   "id": "69ce6079",
   "metadata": {},
   "outputs": [
    {
     "data": {
      "text/plain": [
       "<matplotlib.legend.Legend at 0x24f38ca0220>"
      ]
     },
     "execution_count": 9,
     "metadata": {},
     "output_type": "execute_result"
    },
    {
     "name": "stderr",
     "output_type": "stream",
     "text": [
      "C:\\Users\\Msc 1\\AppData\\Local\\Programs\\Python\\Python39\\lib\\site-packages\\IPython\\core\\pylabtools.py:151: UserWarning: Glyph 120579 (\\N{MATHEMATICAL ITALIC SMALL THETA}) missing from current font.\n",
      "  fig.canvas.print_figure(bytes_io, **kw)\n"
     ]
    },
    {
     "data": {
      "image/png": "[encoded data removed]",
      "text/plain": [
       "<Figure size 1008x720 with 1 Axes>"
      ]
     },
     "metadata": {
      "needs_background": "light"
     },
     "output_type": "display_data"
    }
   ],
   "source": [
    "l=np.linspace(0,1,100)\n",
    "plt.figure(figsize=(14,10))\n",
    "plt.plot(l,f(l,0),label='𝜃=0')\n",
    "plt.plot(l,f(l,1),label='𝜃=1')\n",
    "plt.plot(l,f(l,2),label='𝜃=2')\n",
    "plt.plot(l,f(l,3),label='𝜃=3')\n",
    "plt.plot(l,f(l,4),label='𝜃=4')\n",
    "plt.xlabel(\"X values\")\n",
    "plt.ylabel(\"F(x) values\")\n",
    "plt.legend()"
   ]
  },
  {
   "cell_type": "markdown",
   "id": "a8b8f734",
   "metadata": {},
   "source": [
    "###### 8. Generate a random 100 numbers from the standard normal distribution. Plot the histogram and boxplot of the data."
   ]
  },
  {
   "cell_type": "code",
   "execution_count": null,
   "id": "cd03ee64",
   "metadata": {},
   "outputs": [],
   "source": [
    "summ=0\n",
    "l=np.random.randn(100)\n",
    "mean=np.mean(l)\n",
    "for i in range(len(l)):\n",
    "    summ=summ + (l[i]-mean)**2\n",
    "#     print(l[i],mean,summ)\n",
    "std=summ/(100)\n",
    "std\n",
    "\n",
    "\n",
    "k=[(i-mean)/std  for i in l ]\n",
    "\n",
    "\n",
    "\n",
    "plt.hist(k,bins=20)\n",
    "\n",
    "\n"
   ]
  },
  {
   "cell_type": "code",
   "execution_count": 4,
   "id": "9e76a753",
   "metadata": {},
   "outputs": [
    {
     "data": {
      "text/plain": [
       "{'whiskers': [<matplotlib.lines.Line2D at 0x24f38b20b20>,\n",
       "  <matplotlib.lines.Line2D at 0x24f38b20df0>],\n",
       " 'caps': [<matplotlib.lines.Line2D at 0x24f38b3b100>,\n",
       "  <matplotlib.lines.Line2D at 0x24f38b3b3d0>],\n",
       " 'boxes': [<matplotlib.lines.Line2D at 0x24f38b20850>],\n",
       " 'medians': [<matplotlib.lines.Line2D at 0x24f38b3b6a0>],\n",
       " 'fliers': [<matplotlib.lines.Line2D at 0x24f38b3b970>],\n",
       " 'means': []}"
      ]
     },
     "execution_count": 4,
     "metadata": {},
     "output_type": "execute_result"
    },
    {
     "data": {
      "image/png": "[encoded data removed]",
      "text/plain": [
       "<Figure size 432x288 with 1 Axes>"
      ]
     },
     "metadata": {
      "needs_background": "light"
     },
     "output_type": "display_data"
    }
   ],
   "source": [
    "\n",
    "plt.boxplot(l) \n"
   ]
  },
  {
   "cell_type": "code",
   "execution_count": 6,
   "id": "e10d7311",
   "metadata": {},
   "outputs": [
    {
     "data": {
      "text/plain": [
       "(array([11., 14., 12., 10.,  7.,  8., 12.,  8., 12.,  6.]),\n",
       " array([0.00836458, 0.10702881, 0.20569303, 0.30435725, 0.40302147,\n",
       "        0.5016857 , 0.60034992, 0.69901414, 0.79767837, 0.89634259,\n",
       "        0.99500681]),\n",
       " <BarContainer object of 10 artists>)"
      ]
     },
     "execution_count": 6,
     "metadata": {},
     "output_type": "execute_result"
    },
    {
     "data": {
      "image/png": "[encoded data removed]",
      "text/plain": [
       "<Figure size 432x288 with 1 Axes>"
      ]
     },
     "metadata": {
      "needs_background": "light"
     },
     "output_type": "display_data"
    }
   ],
   "source": [
    "plt.hist(l) "
   ]
  },
  {
   "cell_type": "markdown",
   "id": "abe6754e",
   "metadata": {},
   "source": [
    "##### 9. Generate pd.Series by using all the names of your classmates. Write a program to print\n",
    "##### the names containing at least  2 vowels from a series?"
   ]
  },
  {
   "cell_type": "code",
   "execution_count": null,
   "id": "9f0f2995",
   "metadata": {},
   "outputs": [],
   "source": [
    "seres=pd.Series(['aditya','pavan','heamath','kumaar','saideva','swaroop','lalit'])\n",
    "vowels=['a','e','i','o','u','A','E','I','O','U']\n",
    "count=0\n",
    "seres2=[]"
   ]
  },
  {
   "cell_type": "code",
   "execution_count": null,
   "id": "05d85249",
   "metadata": {},
   "outputs": [],
   "source": [
    "for i in seres:\n",
    "    for j in vowels:\n",
    "        if(j in i ):\n",
    "            count=count+1\n",
    "    if(count>=2):\n",
    "        seres2.append(i)\n",
    "    count=0\n",
    "seres2"
   ]
  },
  {
   "cell_type": "code",
   "execution_count": null,
   "id": "c1275e64",
   "metadata": {},
   "outputs": [],
   "source": []
  },
  {
   "cell_type": "markdown",
   "id": "b2a33fd7",
   "metadata": {},
   "source": [
    "###### 10. Generate random 100 integers. Write a program to find the mean, median, and standard deviation for the generated data."
   ]
  },
  {
   "cell_type": "code",
   "execution_count": 3,
   "id": "08d89ee5",
   "metadata": {},
   "outputs": [
    {
     "name": "stdout",
     "output_type": "stream",
     "text": [
      "mean = 0.4630650068541831 , standard deviation =0.2882282389109945 ,median = 0.42470752495501557\n"
     ]
    }
   ],
   "source": [
    "l=np.random.rand(100)\n",
    "\n",
    "mean=np.mean(l)\n",
    "\n",
    "o=np.median(l)\n",
    "\n",
    "print(f'mean = {mean} , standard deviation ={np.std(l)} ,median = { o}')"
   ]
  }
 ],
 "metadata": {
  "kernelspec": {
   "display_name": "Python 3 (ipykernel)",
   "language": "python",
   "name": "python3"
  },
  "language_info": {
   "codemirror_mode": {
    "name": "ipython",
    "version": 3
   },
   "file_extension": ".py",
   "mimetype": "text/x-python",
   "name": "python",
   "nbconvert_exporter": "python",
   "pygments_lexer": "ipython3",
   "version": "3.9.13"
  }
 },
 "nbformat": 4,
 "nbformat_minor": 5
}
